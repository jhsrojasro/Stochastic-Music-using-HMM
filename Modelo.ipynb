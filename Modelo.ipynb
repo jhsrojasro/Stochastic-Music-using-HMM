{
  "nbformat": 4,
  "nbformat_minor": 0,
  "metadata": {
    "colab": {
      "name": "Modelo.ipynb",
      "provenance": [],
      "collapsed_sections": [],
      "toc_visible": true,
      "include_colab_link": true
    },
    "kernelspec": {
      "name": "python3",
      "display_name": "Python 3"
    }
  },
  "cells": [
    {
      "cell_type": "markdown",
      "metadata": {
        "id": "view-in-github",
        "colab_type": "text"
      },
      "source": [
        "<a href=\"https://colab.research.google.com/github/jhsrojasro/Stochastic-Music-using-HMM/blob/master/Modelo.ipynb\" target=\"_parent\"><img src=\"https://colab.research.google.com/assets/colab-badge.svg\" alt=\"Open In Colab\"/></a>"
      ]
    },
    {
      "cell_type": "markdown",
      "metadata": {
        "id": "i-MjuH3a5teH",
        "colab_type": "text"
      },
      "source": [
        "#Música Estocastica usando Modelo Oculto de Markov\n",
        "Camilo Andres Contreras Cristancho\n",
        "\n",
        "Danier Elian Gonzalez Ordoñez\n",
        "\n",
        "Jhon Sebastian Rojas Rodriguez\n",
        "\n",
        "Juan Sebastian Nieto Giraldo\n",
        "\n",
        "Yerson Andres Valderrama Ceron\n",
        "\n",
        "Modelos y Simulación 2020-1\n",
        "\n",
        "#Creación del modelo\n",
        "\n",
        "\n"
      ]
    },
    {
      "cell_type": "code",
      "metadata": {
        "id": "bKnWF9LK_2Is",
        "colab_type": "code",
        "colab": {
          "base_uri": "https://localhost:8080/",
          "height": 275
        },
        "outputId": "0b14003c-773f-4786-f71c-353ad7a65b7a"
      },
      "source": [
        "!pip install --user git+https://github.com/hmmlearn/hmmlearn.git\n",
        "#Se debe reiniciar el entorno de ejecucion luego de clonar el repositorio"
      ],
      "execution_count": 1,
      "outputs": [
        {
          "output_type": "stream",
          "text": [
            "Collecting git+https://github.com/hmmlearn/hmmlearn.git\n",
            "  Cloning https://github.com/hmmlearn/hmmlearn.git to /tmp/pip-req-build-3jxtrrlv\n",
            "  Running command git clone -q https://github.com/hmmlearn/hmmlearn.git /tmp/pip-req-build-3jxtrrlv\n",
            "Requirement already satisfied: numpy>=1.10 in /usr/local/lib/python3.6/dist-packages (from hmmlearn==0.2.3.post12+g7733adc) (1.18.5)\n",
            "Requirement already satisfied: scikit-learn>=0.16 in /usr/local/lib/python3.6/dist-packages (from hmmlearn==0.2.3.post12+g7733adc) (0.22.2.post1)\n",
            "Requirement already satisfied: scipy>=0.15 in /usr/local/lib/python3.6/dist-packages (from hmmlearn==0.2.3.post12+g7733adc) (1.4.1)\n",
            "Requirement already satisfied: joblib>=0.11 in /usr/local/lib/python3.6/dist-packages (from scikit-learn>=0.16->hmmlearn==0.2.3.post12+g7733adc) (0.15.1)\n",
            "Building wheels for collected packages: hmmlearn\n",
            "  Building wheel for hmmlearn (setup.py) ... \u001b[?25l\u001b[?25hdone\n",
            "  Created wheel for hmmlearn: filename=hmmlearn-0.2.3.post12+g7733adc-cp36-cp36m-linux_x86_64.whl size=324761 sha256=bab777e373f0ca80f871156eea7628ff239775c3d0514930cb667f18b68d4215\n",
            "  Stored in directory: /tmp/pip-ephem-wheel-cache-57fz0fnz/wheels/fd/a5/f8/67f3bca7b157c6a0fef609c7d6e7135c8994abeba54aee76c6\n",
            "Successfully built hmmlearn\n",
            "Installing collected packages: hmmlearn\n",
            "Successfully installed hmmlearn-0.2.3.post12+g7733adc\n"
          ],
          "name": "stdout"
        }
      ]
    },
    {
      "cell_type": "code",
      "metadata": {
        "id": "qwxtRFpd1EmU",
        "colab_type": "code",
        "colab": {}
      },
      "source": [
        "import numpy as np\n",
        "import math\n",
        "from hmmlearn import hmm\n",
        "import pickle\n",
        "from music21 import *"
      ],
      "execution_count": 1,
      "outputs": []
    },
    {
      "cell_type": "code",
      "metadata": {
        "id": "LdztWwbsWGNo",
        "colab_type": "code",
        "colab": {
          "base_uri": "https://localhost:8080/",
          "height": 122
        },
        "outputId": "27d01fc9-1ad0-4caf-f128-023472fc28b4"
      },
      "source": [
        "from google.colab import drive\n",
        "drive.mount('/content/drive')"
      ],
      "execution_count": 2,
      "outputs": [
        {
          "output_type": "stream",
          "text": [
            "Go to this URL in a browser: https://accounts.google.com/o/oauth2/auth?client_id=947318989803-6bn6qk8qdgf4n4g3pfee6491hc0brc4i.apps.googleusercontent.com&redirect_uri=urn%3aietf%3awg%3aoauth%3a2.0%3aoob&response_type=code&scope=email%20https%3a%2f%2fwww.googleapis.com%2fauth%2fdocs.test%20https%3a%2f%2fwww.googleapis.com%2fauth%2fdrive%20https%3a%2f%2fwww.googleapis.com%2fauth%2fdrive.photos.readonly%20https%3a%2f%2fwww.googleapis.com%2fauth%2fpeopleapi.readonly\n",
            "\n",
            "Enter your authorization code:\n",
            "··········\n",
            "Mounted at /content/drive\n"
          ],
          "name": "stdout"
        }
      ]
    },
    {
      "cell_type": "markdown",
      "metadata": {
        "id": "ZKWTpzpunMED",
        "colab_type": "text"
      },
      "source": [
        "path de los datos"
      ]
    },
    {
      "cell_type": "code",
      "metadata": {
        "id": "y33q_YvbrJoL",
        "colab_type": "code",
        "colab": {}
      },
      "source": [
        "generos = [\"jazz\", \"salsa\", \"rock\", \"blues\"]\n",
        "path = \"/content/drive/Shared drives/Modelos y Simulación/Dataset\"\n",
        "modelos = {}\n",
        "scores = {}"
      ],
      "execution_count": 3,
      "outputs": []
    },
    {
      "cell_type": "markdown",
      "metadata": {
        "id": "icXnzIw9cjLE",
        "colab_type": "text"
      },
      "source": [
        "Cargamos los datos en diccionarios"
      ]
    },
    {
      "cell_type": "code",
      "metadata": {
        "id": "lTrQC5zrcidd",
        "colab_type": "code",
        "colab": {}
      },
      "source": [
        "datos = {}\n",
        "observations = {}\n",
        "n_observations = {}\n",
        "n_lengths = {}\n",
        "leng = {}\n",
        "for genero in generos:\n",
        "  datos[genero] = np.transpose([np.loadtxt((path + \"/data_\"+genero+\"_tr.txt\"),dtype=int)])\n",
        "  observations[genero] = ((open(path + \"/states_\"+genero+\".txt\", \"r\")).readline()).split()\n",
        "  n_observations[genero] = len(observations[genero])\n",
        "  n_lengths[genero] = [int(x) for x in ((open(path + \"/lengths_\"+genero+\".txt\")).readline()).split()]\n",
        "  leng[genero] = np.sum(n_lengths[genero])"
      ],
      "execution_count": 4,
      "outputs": []
    },
    {
      "cell_type": "code",
      "metadata": {
        "id": "aPcHHXuBr2Yz",
        "colab_type": "code",
        "colab": {
          "base_uri": "https://localhost:8080/",
          "height": 85
        },
        "outputId": "e78aa520-d42a-4aa9-d086-48fbe06c0482"
      },
      "source": [
        "for genero in generos:\n",
        "  s = np.sum(n_lengths[genero])\n",
        "  print(genero,\": \",s,\" train: \",np.floor(s*0.25))"
      ],
      "execution_count": 5,
      "outputs": [
        {
          "output_type": "stream",
          "text": [
            "jazz :  2461  train:  615.0\n",
            "salsa :  1072  train:  268.0\n",
            "rock :  1043  train:  260.0\n",
            "blues :  1405  train:  351.0\n"
          ],
          "name": "stdout"
        }
      ]
    },
    {
      "cell_type": "markdown",
      "metadata": {
        "id": "6jpnAFfcwtaW",
        "colab_type": "text"
      },
      "source": [
        "Búsqueda de hiperparámetros por medio de los criterios AIC y BIC."
      ]
    },
    {
      "cell_type": "code",
      "metadata": {
        "id": "lt9JOWVTDYmF",
        "colab_type": "code",
        "colab": {}
      },
      "source": [
        "def AIC(k, lg):\n",
        "  return -2*lg + 2*k\n",
        "\n",
        "def BIC(k, lg, n):\n",
        "  return -2*lg + k * np.log(n)"
      ],
      "execution_count": 6,
      "outputs": []
    },
    {
      "cell_type": "code",
      "metadata": {
        "id": "1wupzz0OwsDt",
        "colab_type": "code",
        "colab": {}
      },
      "source": [
        "resultados = {}\n",
        "best_aic = {}\n",
        "best_bic = {}\n",
        "for genero in generos:\n",
        "  results = []\n",
        "\n",
        "  baic = (5, math.inf)\n",
        "  bbic = (6, math.inf)\n",
        "\n",
        "  #prueba con cada numero de estados hasta el numero de observaciones\n",
        "  for states in range(1, n_observations[genero] + 1):\n",
        "    k = states * (1 + states + n_observations[genero])\n",
        "    bestlog = -math.inf\n",
        "    #se repite el entrenamiento diez veces para obtener el mejor modelo con ese numero de estados\n",
        "    for i in range(10):\n",
        "      model = hmm.MultinomialHMM(n_components=states)\n",
        "      model.n_features = n_observations[genero]\n",
        "      model.fit(datos[genero], n_lengths[genero])\n",
        "      logprob = model.score(datos[genero], n_lengths[genero])\n",
        "      if(logprob > bestlog):\n",
        "        bestlog = logprob\n",
        "    #calclo de los scores de AIC y BIC del mejor modelo con ese numero de estados    \n",
        "    aic = AIC(k, bestlog)\n",
        "    bic = BIC(k, bestlog, leng[genero])\n",
        "    results.append( (states, aic, bic) )\n",
        "    if(aic < baic[1]):\n",
        "      baic = (states, aic)\n",
        "    if(bic < bbic[1]):\n",
        "      bbic = (states, bic)\n",
        "  resultados[genero] = results\n",
        "  best_aic[genero] = baic\n",
        "  best_bic[genero] = bbic"
      ],
      "execution_count": null,
      "outputs": []
    },
    {
      "cell_type": "markdown",
      "metadata": {
        "id": "ibXBUpbZsPmH",
        "colab_type": "text"
      },
      "source": [
        "Imprimimos el resultado de la búsqueda de Hiperparámetros."
      ]
    },
    {
      "cell_type": "code",
      "metadata": {
        "id": "pLLBY8YtdpNv",
        "colab_type": "code",
        "colab": {
          "base_uri": "https://localhost:8080/",
          "height": 153
        },
        "outputId": "bae2ea6f-1fc5-4945-aed2-768dd922b0e2"
      },
      "source": [
        "for genero in generos:\n",
        "  #print(\"Genero: \",genero)\n",
        "  #for resultado in resultados[genero]:\n",
        "  #  print(resultado[2])\n",
        " print(\"Menor AIC \",genero,\": \",best_aic[genero][1],\" con \",best_aic[genero][0],\" estados\")\n",
        " print(\"Menor BIC \",genero,\": \",best_bic[genero][1],\" con \",best_bic[genero][0],\" estados\")"
      ],
      "execution_count": null,
      "outputs": [
        {
          "output_type": "stream",
          "text": [
            "Menor AIC:  8603.240058476626  con  10  estados\n",
            "Menor BIC:  10388.970298948938  con  5  estados\n",
            "Menor AIC:  4212.346843597803  con  10  estados\n",
            "Menor BIC:  5064.992245322619  con  4  estados\n",
            "Menor AIC:  4370.950563897886  con  9  estados\n",
            "Menor BIC:  5109.73968753433  con  3  estados\n",
            "Menor AIC:  4156.7703163826645  con  11  estados\n",
            "Menor BIC:  5435.468448124743  con  4  estados\n"
          ],
          "name": "stdout"
        }
      ]
    },
    {
      "cell_type": "markdown",
      "metadata": {
        "id": "88aOe8NYzMyW",
        "colab_type": "text"
      },
      "source": [
        "Entrenamiento y selección de los mejores modelos con los hiperparametros obtenidos por cada criterio."
      ]
    },
    {
      "cell_type": "code",
      "metadata": {
        "id": "VoC8nX8nFuW_",
        "colab_type": "code",
        "colab": {
          "base_uri": "https://localhost:8080/",
          "height": 34
        },
        "outputId": "cbe6ad3f-418f-4de8-8ac2-934afed84c42"
      },
      "source": [
        "best_states = {\"jazz\" : 10, \"salsa\" : 10, \"rock\" : 9, \"blues\" : 11}\n",
        "n_entrenamientos = 25\n",
        "for genero in generos:\n",
        "  X_train = np.transpose([np.loadtxt((path + \"/train_\"+genero+\".txt\"),dtype=int)])\n",
        "  X_test = np.transpose([np.loadtxt((path + \"/test_\"+genero+\".txt\"),dtype=int)])\n",
        "  train_len = [int(x) for x in ((open(path + \"/train_\"+genero+\"_len.txt\")).readline()).split()]\n",
        "  test_len = [int(x) for x in ((open(path + \"/test_\"+genero+\"_len.txt\")).readline()).split()]\n",
        "\n",
        "  best_score = -math.inf\n",
        "  best_model = hmm.MultinomialHMM(n_components=n_observations[genero], n_iter=1000)\n",
        "\n",
        "  for j in range(n_entrenamientos):\n",
        "    model = hmm.MultinomialHMM(n_components=best_states[genero], n_iter=1000)\n",
        "    model.n_features = n_observations[genero]\n",
        "    model.fit(X_train, train_len)\n",
        "    score = model.score(X_train, train_len)\n",
        "    if(score > best_score):\n",
        "      best_model = model\n",
        "      best_score = score\n",
        "  print(\"best score \",genero,\": \",best_score)\n",
        "  scores[genero] = (best_score , best_model.score(X_test, test_len))\n",
        "  modelos[genero] = best_model\n"
      ],
      "execution_count": null,
      "outputs": [
        {
          "output_type": "stream",
          "text": [
            "best score:  -1112.3412119453405\n"
          ],
          "name": "stdout"
        }
      ]
    },
    {
      "cell_type": "markdown",
      "metadata": {
        "id": "v5-lzpBW0kBm",
        "colab_type": "text"
      },
      "source": [
        "Resultados del entrenamiento"
      ]
    },
    {
      "cell_type": "code",
      "metadata": {
        "id": "wwbHU2KXHfRz",
        "colab_type": "code",
        "colab": {
          "base_uri": "https://localhost:8080/",
          "height": 153
        },
        "outputId": "44dc30cf-a50d-43d9-c893-fd07fc40d22e"
      },
      "source": [
        "for genero in generos:\n",
        "  print(\"Genero: \",genero)\n",
        "  print(\"best train log likehood: \",scores[genero][0],\" test log likelihood: \",scores[genero][1] )"
      ],
      "execution_count": null,
      "outputs": [
        {
          "output_type": "stream",
          "text": [
            "Genero:  jazz\n",
            "best train log likehood:  -2507.1172601719077  test log likelihood:  -880.9250271151368\n",
            "Genero:  salsa\n",
            "best train log likehood:  -1025.8035924706644  test log likelihood:  -517.3501756066039\n",
            "Genero:  rock\n",
            "best train log likehood:  -1177.964165091988  test log likelihood:  -491.181476785466\n",
            "Genero:  blues\n",
            "best train log likehood:  -1112.3412119453405  test log likelihood:  -270.03358418142363\n"
          ],
          "name": "stdout"
        }
      ]
    },
    {
      "cell_type": "markdown",
      "metadata": {
        "id": "5vSjKckI2-0n",
        "colab_type": "text"
      },
      "source": [
        "Codigo para serializar el mejor modelo obtenido para cada genero."
      ]
    },
    {
      "cell_type": "code",
      "metadata": {
        "id": "1NP9qXIL25aE",
        "colab_type": "code",
        "colab": {}
      },
      "source": [
        "for genero in generos:\n",
        "  with open(\"/content/drive/Shared drives/Modelos y Simulación/BestModels/\"+genero+\"_model.pkl\", \"wb\") as file: pickle.dump(modelos[genero], file)"
      ],
      "execution_count": null,
      "outputs": []
    },
    {
      "cell_type": "markdown",
      "metadata": {
        "id": "-bJ5bqSi2zrv",
        "colab_type": "text"
      },
      "source": [
        "Codigo para cargar los mejores modelos."
      ]
    },
    {
      "cell_type": "code",
      "metadata": {
        "id": "mx4qb6NLm6Uy",
        "colab_type": "code",
        "colab": {}
      },
      "source": [
        "for genero in generos:\n",
        "  modelos[genero] = pickle.load(open(\"/content/drive/Shared drives/Modelos y Simulación/BestModels/\"+genero+\"_model.pkl\", \"rb\"))"
      ],
      "execution_count": null,
      "outputs": []
    },
    {
      "cell_type": "markdown",
      "metadata": {
        "id": "oTge2mB43WJr",
        "colab_type": "text"
      },
      "source": [
        "Celda para generar una secuencia de salida a partir de un modelo entrenado"
      ]
    },
    {
      "cell_type": "code",
      "metadata": {
        "id": "N7liDTqkg81m",
        "colab_type": "code",
        "colab": {}
      },
      "source": [
        "genero = \"jazz\"\n",
        "longitud_ejemplo = 79*2\n",
        "\n",
        "Y, ejemplos = modelos[genero].sample(longitud_ejemplo)\n",
        "ej = (\" \".join(map(lambda x: observations[genero][x], ejemplos))).split()\n",
        "print(ej)\n",
        "#print(\"Ejemplos\", \", \".join(map(lambda x: observations[x], ejemplos)))"
      ],
      "execution_count": null,
      "outputs": []
    },
    {
      "cell_type": "markdown",
      "metadata": {
        "id": "QfBp6W3_Xb53",
        "colab_type": "text"
      },
      "source": [
        "#Generación de una salida audible."
      ]
    },
    {
      "cell_type": "markdown",
      "metadata": {
        "id": "yIjfKSSxrCdw",
        "colab_type": "text"
      },
      "source": [
        "Funciones que generan un ritmo aleatorio para cada nota de cada acorde producido por el modelo."
      ]
    },
    {
      "cell_type": "code",
      "metadata": {
        "id": "oFOeLJaXGWpJ",
        "colab_type": "code",
        "colab": {}
      },
      "source": [
        "durations = [duration.Duration(1), duration.Duration(1/2),\n",
        "             duration.Duration(1/3), duration.Duration(3/4),\n",
        "             duration.Duration(1/4), duration.Duration(2/3)]\n",
        "def negra(p, s):\n",
        "  s.append(note.Note(pitch=p, duration=durations[0]))\n",
        "\n",
        "def corcheas(p, s):\n",
        "  n = note.Note(pitch=p, duration=durations[1])\n",
        "  s.repeatAppend(n, 2)\n",
        "\n",
        "\n",
        "def tresillos1(p, s):\n",
        "  n1 = note.Note(pitch=p, duration=durations[2])\n",
        "  n2 = note.Note(pitch=p, duration=durations[5])\n",
        "  s.append(n1)\n",
        "  s.append(n2)\n",
        "\n",
        "\n",
        "def tresillos2(p, s):\n",
        "  n1 = note.Note(pitch=p, duration=durations[5])\n",
        "  n2 = note.Note(pitch=p, duration=durations[2])\n",
        "  s.append(n1)\n",
        "  s.append(n2)\n",
        "\n",
        "def corcheap1(p, s):\n",
        "  n1 = note.Note(pitch=p, duration=durations[3])\n",
        "  n2 = note.Note(pitch=p, duration=durations[4])\n",
        "  s.append(n1)\n",
        "  s.append(n2)\n",
        "\n",
        "def corcheap2(p, s):\n",
        "  n1 = note.Note(pitch=p, duration=durations[4])\n",
        "  n2 = note.Note(pitch=p, duration=durations[3])\n",
        "  s.append(n1)\n",
        "  s.append(n2)\n",
        "\n",
        "def ritmo(p, s):\n",
        "  asign = {0: negra, 1: corcheas, 2: tresillos1, 3: corcheap1, 4: corcheap2, 5: tresillos2}\n",
        "  for i in range(2):\n",
        "    r = np.random.randint(6)\n",
        "    asign[r](p, s)\n",
        "  "
      ],
      "execution_count": null,
      "outputs": []
    },
    {
      "cell_type": "markdown",
      "metadata": {
        "id": "6Z13ckfGrKTc",
        "colab_type": "text"
      },
      "source": [
        "Inicialización de los instrumentos y asignación de un conjunto de instrumentos a cada género."
      ]
    },
    {
      "cell_type": "code",
      "metadata": {
        "id": "7Td8ZwaIk66f",
        "colab_type": "code",
        "colab": {}
      },
      "source": [
        "piano = instrument.Piano()\n",
        "contrabajo = instrument.AcousticBass()\n",
        "bajo = instrument.ElectricBass()\n",
        "trompeta = instrument.Trumpet()\n",
        "saxo = instrument.Saxophone()\n",
        "clarinete = instrument.Clarinet()\n",
        "trombon = instrument.Trombone()\n",
        "guitarra = instrument.ElectricGuitar()\n",
        "aguitarra = instrument.AcousticGuitar()\n",
        "voz = instrument.Vocalist()\n",
        "violin = instrument.Violin()\n",
        "\n",
        "\n",
        "instrumentos = {\n",
        "    \"jazz\" : [piano, contrabajo, saxo, trompeta, clarinete],\n",
        "    \"salsa\" : [piano, contrabajo, trombon, saxo, trompeta],\n",
        "    \"rock\" : [piano, bajo, guitarra, guitarra, voz],\n",
        "    \"blues\" : [piano, contrabajo, aguitarra, saxo, violin ]\n",
        "}\n"
      ],
      "execution_count": null,
      "outputs": []
    },
    {
      "cell_type": "markdown",
      "metadata": {
        "id": "UcQEKSuDrSw-",
        "colab_type": "text"
      },
      "source": [
        "Insersión de cada nota en cada parte de la partitura de acuerdo al ejemplo generado por el modelo seleccionado. Y agrupación de las partes en un solo Stream Midi"
      ]
    },
    {
      "cell_type": "code",
      "metadata": {
        "id": "Np-XFsBUUaOA",
        "colab_type": "code",
        "colab": {}
      },
      "source": [
        "partes = [stream.Part(), stream.Part(), stream.Part(), stream.Part(), stream.Part()]\n",
        "for i in range(len(partes)):\n",
        "  partes[i].insert(0, instrumentos[genero][i])\n",
        "\n",
        "for chord in ej:\n",
        "  c = roman.RomanNumeral(chord)\n",
        "  c.duration = duration.Duration(2)\n",
        "  partes[0].append(c)\n",
        "  c.pitches[0].octave -= 2\n",
        "  ritmo(c.pitches[0], partes[1])\n",
        "  ritmo(c.pitches[1], partes[2])\n",
        "  ritmo(c.pitches[ 1 if len(c.pitches) == 3 else 2 ], partes[3])\n",
        "  ritmo(c.pitches[ 2 if len(c.pitches) == 3 else 3 ], partes[4])\n",
        "\n",
        "midi_stream = stream.Stream()\n",
        "for parte in partes:\n",
        "  midi_stream.insert(0, parte)\n"
      ],
      "execution_count": null,
      "outputs": []
    },
    {
      "cell_type": "markdown",
      "metadata": {
        "id": "cpAMUDA8roTj",
        "colab_type": "text"
      },
      "source": [
        "Escritura del archivo MIDI de acuerdo al Stream anterior"
      ]
    },
    {
      "cell_type": "code",
      "metadata": {
        "id": "Svu4zgqxlcK-",
        "colab_type": "code",
        "colab": {
          "base_uri": "https://localhost:8080/",
          "height": 34
        },
        "outputId": "1fa5268c-f363-427f-a4bd-4a3b5ca2af2f"
      },
      "source": [
        "#midi_stream.show()\n",
        "midi_stream.write('midi', fp=\"/content/drive/Shared drives/Modelos y Simulación/Ejemplos/\"+genero+\"_output.mid\")"
      ],
      "execution_count": null,
      "outputs": [
        {
          "output_type": "execute_result",
          "data": {
            "text/plain": [
              "'/content/drive/Shared drives/Modelos y Simulación/Ejemplos/blues_output.mid'"
            ]
          },
          "metadata": {
            "tags": []
          },
          "execution_count": 161
        }
      ]
    }
  ]
}